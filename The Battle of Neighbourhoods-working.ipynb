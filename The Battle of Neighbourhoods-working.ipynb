{
    "nbformat_minor": 1, 
    "cells": [
        {
            "source": "# Capstone Project - The Battle of Neighborhoods\n\n#### Introduction\n\nJapan's parliament has approved a controversial new law allowing hundreds of thousands of foreigners into the country to ease labour shortages.\nFrom April 2019 onwards, foreigners have been allowed to take up jobs in sectors such construction, farming and nursing.\nJapan has traditionally been wary of immigration but the government says more foreigners are needed because of Japan's ageing population.Under the new system, more than 300,000 foreigners could be allowed to work in sectors facing a labour crunch.\nJapan has a rich cultural heritage when it comes to art, technology and also food. Let us analyse the data to find out about the Ramen restaurants in Japan, Ramen being a very popular food item amongst Japanese as well as non-Japanese people.\n\n\n#### Data\nPicked up list of cities in Japan from  - https://en.wikipedia.org/wiki/List_of_cities_in_Japan\n\nPicked up the Geospatial data of the top 3 populated cities from - https://www.latlong.net/category/cities-111-15.html\n\n\n#### Steps to follow\n\n1. Picked up data from wikipedia to get the list of cities in Japan\n2. Picked the data for longitude and latitude for the 3 most populated cities in Japan\n3. Using Foursquare, identified the venues in these 3 cities\n4. Explored these venues and their ratings, tips and likes\n\n#### Observations", 
            "cell_type": "markdown", 
            "metadata": {}
        }, 
        {
            "source": "", 
            "cell_type": "markdown", 
            "metadata": {}
        }, 
        {
            "source": "# Fetch List of Cities in Japan", 
            "cell_type": "markdown", 
            "metadata": {
                "collapsed": true
            }
        }, 
        {
            "execution_count": null, 
            "cell_type": "code", 
            "metadata": {}, 
            "outputs": [], 
            "source": ""
        }, 
        {
            "execution_count": null, 
            "cell_type": "code", 
            "metadata": {}, 
            "outputs": [], 
            "source": ""
        }, 
        {
            "execution_count": 21, 
            "cell_type": "code", 
            "metadata": {}, 
            "outputs": [], 
            "source": "import pandas as pd"
        }, 
        {
            "execution_count": 22, 
            "cell_type": "code", 
            "metadata": {}, 
            "outputs": [], 
            "source": "import urllib.request\n\nurl = 'https://en.wikipedia.org/wiki/List_of_cities_in_Japan'\nreq = urllib.request.urlopen(url)\narticle = req.read().decode()\n\nwith open('List_of_cities_in_Japan.html', 'w') as fo:\n    fo.write(article)"
        }, 
        {
            "execution_count": 23, 
            "cell_type": "code", 
            "metadata": {}, 
            "outputs": [
                {
                    "execution_count": 23, 
                    "metadata": {}, 
                    "data": {
                        "text/html": "<div>\n<style scoped>\n    .dataframe tbody tr th:only-of-type {\n        vertical-align: middle;\n    }\n\n    .dataframe tbody tr th {\n        vertical-align: top;\n    }\n\n    .dataframe thead th {\n        text-align: right;\n    }\n</style>\n<table border=\"1\" class=\"dataframe\">\n  <thead>\n    <tr style=\"text-align: right;\">\n      <th></th>\n      <th>City</th>\n      <th>Prefecture</th>\n      <th>Population</th>\n      <th>Area</th>\n    </tr>\n  </thead>\n  <tbody>\n    <tr>\n      <th>0</th>\n      <td>Nagoya</td>\n      <td>Aichi</td>\n      <td>2,283,289</td>\n      <td>326.45</td>\n    </tr>\n    <tr>\n      <th>1</th>\n      <td>Toyohashi</td>\n      <td>Aichi</td>\n      <td>377,045</td>\n      <td>261.35</td>\n    </tr>\n    <tr>\n      <th>2</th>\n      <td>Okazaki</td>\n      <td>Aichi</td>\n      <td>371,380</td>\n      <td>387.24</td>\n    </tr>\n  </tbody>\n</table>\n</div>", 
                        "text/plain": "        City Prefecture Population    Area\n0     Nagoya      Aichi  2,283,289  326.45\n1  Toyohashi      Aichi    377,045  261.35\n2    Okazaki      Aichi    371,380  387.24"
                    }, 
                    "output_type": "execute_result"
                }
            ], 
            "source": "from bs4 import BeautifulSoup\n\narticle = open('List_of_cities_in_Japan.html').read()\nsoup = BeautifulSoup(article, 'html.parser')\ntables = soup.find_all('table', class_='sortable')\n\nfor table in tables:\n    ths = table.find_all('th')\n    headings = [th.text.strip() for th in ths]\n    if headings[:8] == ['City (Special Ward)', 'Japanese', 'Prefecture', 'Population','Area','Density','Founded','Homepage']:\n        break\n\nwith open('cities_in_japan.txt', 'w') as fo:\n    for tr in table.find_all('tr'):\n        tds = tr.find_all('td')\n        if not tds:\n            continue\n        col1, col2, col3, col4, col5, col6, col7, col8 = [td.text.strip() for td in tds[:8]]        \n        \n        print(';'.join([col1, col2, col3, col4, col5, col6, col7, col8]), file=fo)\n        \ndata = pd.read_csv('cities_in_japan.txt', sep=\";\",header=None)\ndata.columns = ['col1', 'col2', 'col3', 'col4', 'col5', 'col6', 'col7', 'col8']\ndata = data.drop(columns=['col2','col6','col7','col8'])\ndata.columns=['City','Prefecture','Population','Area']         \ndata.head(3)\n\n"
        }, 
        {
            "execution_count": 24, 
            "cell_type": "code", 
            "metadata": {}, 
            "outputs": [
                {
                    "execution_count": 24, 
                    "metadata": {}, 
                    "data": {
                        "text/plain": "City          object\nPrefecture    object\nPopulation    object\nArea          object\ndtype: object"
                    }, 
                    "output_type": "execute_result"
                }
            ], 
            "source": "data = data.apply(lambda x: x.str.replace(',',''))\ndata.dtypes"
        }, 
        {
            "execution_count": 25, 
            "cell_type": "code", 
            "metadata": {}, 
            "outputs": [], 
            "source": "data = data.astype({\"Population\": int, \"Area\": float})"
        }, 
        {
            "execution_count": 37, 
            "cell_type": "code", 
            "metadata": {}, 
            "outputs": [
                {
                    "execution_count": 37, 
                    "metadata": {}, 
                    "data": {
                        "text/html": "<div>\n<style scoped>\n    .dataframe tbody tr th:only-of-type {\n        vertical-align: middle;\n    }\n\n    .dataframe tbody tr th {\n        vertical-align: top;\n    }\n\n    .dataframe thead th {\n        text-align: right;\n    }\n</style>\n<table border=\"1\" class=\"dataframe\">\n  <thead>\n    <tr style=\"text-align: right;\">\n      <th></th>\n      <th>City</th>\n      <th>Prefecture</th>\n      <th>Population</th>\n      <th>Area</th>\n    </tr>\n  </thead>\n  <tbody>\n    <tr>\n      <th>730</th>\n      <td>Tokyo Ward AASpecial wards of Tokyo</td>\n      <td>Tokyo</td>\n      <td>8637098</td>\n      <td>621.81</td>\n    </tr>\n    <tr>\n      <th>355</th>\n      <td>Yokohama</td>\n      <td>Kanagawa</td>\n      <td>3697894</td>\n      <td>437.38</td>\n    </tr>\n    <tr>\n      <th>555</th>\n      <td>Osaka</td>\n      <td>Osaka</td>\n      <td>2668586</td>\n      <td>222.30</td>\n    </tr>\n  </tbody>\n</table>\n</div>", 
                        "text/plain": "                                    City Prefecture  Population    Area\n730  Tokyo Ward AASpecial wards of Tokyo      Tokyo     8637098  621.81\n355                             Yokohama   Kanagawa     3697894  437.38\n555                                Osaka      Osaka     2668586  222.30"
                    }, 
                    "output_type": "execute_result"
                }
            ], 
            "source": "data = data.sort_values(by='Population', ascending=False)\ndataset = data.head(3)\ndataset\n\n"
        }, 
        {
            "execution_count": 39, 
            "cell_type": "code", 
            "metadata": {}, 
            "outputs": [], 
            "source": "dataset.insert(4, \"Latitude\", [35.652832, 35.443707, 34.669529], True) \n"
        }, 
        {
            "execution_count": 41, 
            "cell_type": "code", 
            "metadata": {}, 
            "outputs": [], 
            "source": "dataset.insert(5,\"Longitude\", [139.839478,139.638031,135.497009], True)"
        }, 
        {
            "execution_count": 42, 
            "cell_type": "code", 
            "metadata": {}, 
            "outputs": [
                {
                    "execution_count": 42, 
                    "metadata": {}, 
                    "data": {
                        "text/html": "<div>\n<style scoped>\n    .dataframe tbody tr th:only-of-type {\n        vertical-align: middle;\n    }\n\n    .dataframe tbody tr th {\n        vertical-align: top;\n    }\n\n    .dataframe thead th {\n        text-align: right;\n    }\n</style>\n<table border=\"1\" class=\"dataframe\">\n  <thead>\n    <tr style=\"text-align: right;\">\n      <th></th>\n      <th>City</th>\n      <th>Prefecture</th>\n      <th>Population</th>\n      <th>Area</th>\n      <th>Latitude</th>\n      <th>Longitude</th>\n    </tr>\n  </thead>\n  <tbody>\n    <tr>\n      <th>730</th>\n      <td>Tokyo Ward AASpecial wards of Tokyo</td>\n      <td>Tokyo</td>\n      <td>8637098</td>\n      <td>621.81</td>\n      <td>35.652832</td>\n      <td>139.839478</td>\n    </tr>\n    <tr>\n      <th>355</th>\n      <td>Yokohama</td>\n      <td>Kanagawa</td>\n      <td>3697894</td>\n      <td>437.38</td>\n      <td>35.443707</td>\n      <td>139.638031</td>\n    </tr>\n    <tr>\n      <th>555</th>\n      <td>Osaka</td>\n      <td>Osaka</td>\n      <td>2668586</td>\n      <td>222.30</td>\n      <td>34.669529</td>\n      <td>135.497009</td>\n    </tr>\n  </tbody>\n</table>\n</div>", 
                        "text/plain": "                                    City Prefecture  Population    Area  \\\n730  Tokyo Ward AASpecial wards of Tokyo      Tokyo     8637098  621.81   \n355                             Yokohama   Kanagawa     3697894  437.38   \n555                                Osaka      Osaka     2668586  222.30   \n\n      Latitude   Longitude  \n730  35.652832  139.839478  \n355  35.443707  139.638031  \n555  34.669529  135.497009  "
                    }, 
                    "output_type": "execute_result"
                }
            ], 
            "source": "dataset"
        }, 
        {
            "execution_count": 8, 
            "cell_type": "code", 
            "metadata": {}, 
            "outputs": [
                {
                    "output_type": "stream", 
                    "name": "stdout", 
                    "text": "Solving environment: done\n\n# All requested packages already installed.\n\nSolving environment: done\n\n# All requested packages already installed.\n\nLibraries imported.\n"
                }
            ], 
            "source": "pd.set_option('display.max_columns', None)\npd.set_option('display.max_rows', None)\n\nimport numpy as np\n\nimport json # library to handle JSON files\n\n!conda install -c conda-forge geopy --yes # uncomment this line if you haven't completed the Foursquare API lab\nfrom geopy.geocoders import Nominatim # convert an address into latitude and longitude values\n\nimport requests # library to handle requests\nfrom pandas.io.json import json_normalize # tranform JSON file into a pandas dataframe\n\n# Matplotlib and associated plotting modules\nimport matplotlib.cm as cm\nimport matplotlib.colors as colors\n\n# import k-means from clustering stage\nfrom sklearn.cluster import KMeans\n\n!conda install -c conda-forge folium=0.5.0 --yes # uncomment this line if you haven't completed the Foursquare API lab\nimport folium # map rendering library\n\nprint('Libraries imported.')"
        }, 
        {
            "execution_count": 58, 
            "cell_type": "code", 
            "metadata": {}, 
            "outputs": [
                {
                    "output_type": "stream", 
                    "name": "stdout", 
                    "text": "Your credentails:\nCLIENT_ID: YBT4LLDV1IP0XRTAUK1BD5OZY4GBHWXTDOKMQFCT0I2YR3XB\nCLIENT_SECRET:G1QSFA0ECSZYGSHNAATC3Z25ZNRDKGA0DF0ZL1CBHPUABOPC\n"
                }
            ], 
            "source": "CLIENT_ID = 'YBT4LLDV1IP0XRTAUK1BD5OZY4GBHWXTDOKMQFCT0I2YR3XB' # your Foursquare ID\nCLIENT_SECRET = 'G1QSFA0ECSZYGSHNAATC3Z25ZNRDKGA0DF0ZL1CBHPUABOPC' # your Foursquare Secret\nVERSION = '20190809' # Foursquare API version\n\nprint('Your credentails:')\nprint('CLIENT_ID: ' + CLIENT_ID)\nprint('CLIENT_SECRET:' + CLIENT_SECRET)\nRADIUS=1200\nLIMIT=100"
        }, 
        {
            "execution_count": 59, 
            "cell_type": "code", 
            "metadata": {}, 
            "outputs": [], 
            "source": "def fetch_venues(lat,long):   \n   \n    #url to explore venues\n    url = 'https://api.foursquare.com/v2/venues/explore?&client_id={}&client_secret={}&v={}&ll={},{}&radius={}&limit={}'.format(\n            CLIENT_ID, \n            CLIENT_SECRET, \n            VERSION, \n            lat, \n            long, \n            RADIUS, \n            LIMIT)\n    \n    # get all the data\n    results = requests.get(url).json()\n    venue_data=results[\"response\"]['groups'][0]['items']\n    venue_details=[]\n    for row in venue_data:\n        try:\n            venue_id=row['venue']['id']\n            venue_name=row['venue']['name']\n            venue_category=row['venue']['categories'][0]['name']\n            venue_details.append([venue_id,venue_name,venue_category])\n        except KeyError:\n            pass\n        \n    column_names=['ID','Name','Category']\n    df = pd.DataFrame(venue_details,columns=column_names)\n    return df"
        }, 
        {
            "execution_count": 97, 
            "cell_type": "code", 
            "metadata": {}, 
            "outputs": [], 
            "source": "def fetch_venue_details(venue_id):\n        \n   \n    #fetch venues url\n    url = 'https://api.foursquare.com/v2/venues/{}?&client_id={}&client_secret={}&v={}'.format(\n            venue_id,\n            CLIENT_ID, \n            CLIENT_SECRET, \n            VERSION)\n    \n    # get all the data\n    results = requests.get(url).json()\n    venue_data=results['response']['venue']\n    venue_details=[]\n    try:\n        venue_id=venue_data['id']\n        venue_name=venue_data['name']\n        venue_likes=venue_data['likes']['count']\n        venue_rating=venue_data['rating']\n        venue_tips=venue_data['tips']['count']\n        venue_details.append([venue_id,venue_name,venue_likes,venue_rating,venue_tips])\n    except KeyError:\n        pass\n    \n    column_names=['ID','Name','Likes','Rating','Tips']\n    df = pd.DataFrame(venue_details,columns=column_names)\n    return df    "
        }, 
        {
            "execution_count": 89, 
            "cell_type": "code", 
            "metadata": {}, 
            "outputs": [
                {
                    "output_type": "stream", 
                    "name": "stdout", 
                    "text": "0 Ramen Restaurant(s) in Tokyo Ward AASpecial wards of Tokyo\n7 Ramen Restaurant(s) in Yokohama\n4 Ramen Restaurant(s) in Osaka\n"
                }, 
                {
                    "execution_count": 89, 
                    "metadata": {}, 
                    "data": {
                        "text/html": "<div>\n<style scoped>\n    .dataframe tbody tr th:only-of-type {\n        vertical-align: middle;\n    }\n\n    .dataframe tbody tr th {\n        vertical-align: top;\n    }\n\n    .dataframe thead th {\n        text-align: right;\n    }\n</style>\n<table border=\"1\" class=\"dataframe\">\n  <thead>\n    <tr style=\"text-align: right;\">\n      <th></th>\n      <th>Prefecture</th>\n      <th>City</th>\n      <th>ID</th>\n      <th>Name</th>\n    </tr>\n  </thead>\n  <tbody>\n    <tr>\n      <th>0</th>\n      <td>Kanagawa</td>\n      <td>Yokohama</td>\n      <td>4b7cd69af964a52010a72fe3</td>\n      <td>Tenkaippin (\u5929\u4e0b\u4e00\u54c1)</td>\n    </tr>\n    <tr>\n      <th>1</th>\n      <td>Kanagawa</td>\n      <td>Yokohama</td>\n      <td>4b6d3c91f964a520e66c2ce3</td>\n      <td>Yousyu-Syonin (\u63da\u5dde\u5546\u4eba)</td>\n    </tr>\n    <tr>\n      <th>2</th>\n      <td>Kanagawa</td>\n      <td>Yokohama</td>\n      <td>4b496456f964a520f16e26e3</td>\n      <td>Ramen Jiro (\u30e9\u30fc\u30e1\u30f3\u4e8c\u90ce \u6a2a\u6d5c\u95a2\u5185\u5e97)</td>\n    </tr>\n    <tr>\n      <th>3</th>\n      <td>Kanagawa</td>\n      <td>Yokohama</td>\n      <td>58e709d73ef0f614ce44072d</td>\n      <td>\u4e2d\u83ef\u854e\u9ea6 \u6642\u96e8</td>\n    </tr>\n    <tr>\n      <th>4</th>\n      <td>Kanagawa</td>\n      <td>Yokohama</td>\n      <td>51b12755abd89a0e082663f7</td>\n      <td>Hechikan (\u4e3f\u8cab)</td>\n    </tr>\n    <tr>\n      <th>5</th>\n      <td>Kanagawa</td>\n      <td>Yokohama</td>\n      <td>5438108a498e00613171318a</td>\n      <td>Hoshino Chukasoba Ramen (\u5730\u7403\u306e\u4e2d\u83ef\u305d\u3070)</td>\n    </tr>\n    <tr>\n      <th>6</th>\n      <td>Kanagawa</td>\n      <td>Yokohama</td>\n      <td>4d0c3326bdbfa35d75506272</td>\n      <td>\u5317\u6d77\u9053\u30e9\u30fc\u30e1\u30f3\u6765\u3005\u8ed2 \u672c\u5e97</td>\n    </tr>\n    <tr>\n      <th>7</th>\n      <td>Osaka</td>\n      <td>Osaka</td>\n      <td>4c2d50a8987f20a12d5749aa</td>\n      <td>\u3064\u3051\u9eba \u96c0</td>\n    </tr>\n    <tr>\n      <th>8</th>\n      <td>Osaka</td>\n      <td>Osaka</td>\n      <td>4b6186bbf964a520d9162ae3</td>\n      <td>Ichiran (\u4e00\u862d \u9053\u9813\u5800\u5e97\u672c\u9928)</td>\n    </tr>\n    <tr>\n      <th>9</th>\n      <td>Osaka</td>\n      <td>Osaka</td>\n      <td>552fca5e498e14c3cc433e6f</td>\n      <td>Ichiran (\u4e00\u862d \u9053\u9813\u5800\u5e97\u5225\u9928)</td>\n    </tr>\n    <tr>\n      <th>10</th>\n      <td>Osaka</td>\n      <td>Osaka</td>\n      <td>4d9c52667865a093c75bcd7a</td>\n      <td>Ramen Zundouya (\u30e9\u30fc\u9eba\u305a\u3093\u3069\u3046\u5c4b \u5fc3\u658e\u6a4b\u5e97)</td>\n    </tr>\n  </tbody>\n</table>\n</div>", 
                        "text/plain": "   Prefecture      City                        ID  \\\n0    Kanagawa  Yokohama  4b7cd69af964a52010a72fe3   \n1    Kanagawa  Yokohama  4b6d3c91f964a520e66c2ce3   \n2    Kanagawa  Yokohama  4b496456f964a520f16e26e3   \n3    Kanagawa  Yokohama  58e709d73ef0f614ce44072d   \n4    Kanagawa  Yokohama  51b12755abd89a0e082663f7   \n5    Kanagawa  Yokohama  5438108a498e00613171318a   \n6    Kanagawa  Yokohama  4d0c3326bdbfa35d75506272   \n7       Osaka     Osaka  4c2d50a8987f20a12d5749aa   \n8       Osaka     Osaka  4b6186bbf964a520d9162ae3   \n9       Osaka     Osaka  552fca5e498e14c3cc433e6f   \n10      Osaka     Osaka  4d9c52667865a093c75bcd7a   \n\n                                 Name  \n0                   Tenkaippin (\u5929\u4e0b\u4e00\u54c1)  \n1                Yousyu-Syonin (\u63da\u5dde\u5546\u4eba)  \n2           Ramen Jiro (\u30e9\u30fc\u30e1\u30f3\u4e8c\u90ce \u6a2a\u6d5c\u95a2\u5185\u5e97)  \n3                             \u4e2d\u83ef\u854e\u9ea6 \u6642\u96e8  \n4                       Hechikan (\u4e3f\u8cab)  \n5   Hoshino Chukasoba Ramen (\u5730\u7403\u306e\u4e2d\u83ef\u305d\u3070)  \n6                       \u5317\u6d77\u9053\u30e9\u30fc\u30e1\u30f3\u6765\u3005\u8ed2 \u672c\u5e97  \n7                               \u3064\u3051\u9eba \u96c0  \n8                 Ichiran (\u4e00\u862d \u9053\u9813\u5800\u5e97\u672c\u9928)  \n9                 Ichiran (\u4e00\u862d \u9053\u9813\u5800\u5e97\u5225\u9928)  \n10     Ramen Zundouya (\u30e9\u30fc\u9eba\u305a\u3093\u3069\u3046\u5c4b \u5fc3\u658e\u6a4b\u5e97)  "
                    }, 
                    "output_type": "execute_result"
                }
            ], 
            "source": "column_names=['Prefecture', 'City', 'ID','Name']\nresto_list=pd.DataFrame(columns=column_names)\n\nfor row in dataset.values.tolist():\n    city, pref, pop, area, Latitude, Longitude=row\n    venues = fetch_venues(Latitude,Longitude)\n    restaurants=venues[venues['Category']=='Ramen Restaurant']   \n    print(len(restaurants),'Ramen Restaurant(s) in '+city)\n    for restaurant in restaurants.values.tolist():\n        id, name , category=restaurant\n        resto_list = resto_list.append({'Prefecture': pref,\n                                                'City': city, \n                                                'ID': id,\n                                                'Name' : name\n                                               }, ignore_index=True)\n    \n    \nresto_list"
        }, 
        {
            "execution_count": 94, 
            "cell_type": "code", 
            "metadata": {}, 
            "outputs": [
                {
                    "output_type": "display_data", 
                    "data": {
                        "image/png": "[encoded data removed]", 
                        "text/plain": "<Figure size 900x500 with 1 Axes>"
                    }, 
                    "metadata": {
                        "needs_background": "light"
                    }
                }
            ], 
            "source": "import matplotlib.pyplot as plt\nplt.figure(figsize=(9,5), dpi = 100)\n# title\nplt.title('Number of Ramen Restaurants in top 3 populated cities of Japan')\n#On x-axis\nplt.xlabel('City', fontsize = 15)\n#On y-axis\nplt.ylabel('No.of Resturants', fontsize=15)\n#giving a bar plot\nresto_list.groupby('City')['ID'].count().plot(kind='bar')\n#legend\nplt.legend()\n#displays the plot\nplt.show()"
        }, 
        {
            "execution_count": null, 
            "cell_type": "code", 
            "metadata": {}, 
            "outputs": [], 
            "source": ""
        }, 
        {
            "execution_count": 98, 
            "cell_type": "code", 
            "metadata": {}, 
            "outputs": [
                {
                    "execution_count": 98, 
                    "metadata": {}, 
                    "data": {
                        "text/html": "<div>\n<style scoped>\n    .dataframe tbody tr th:only-of-type {\n        vertical-align: middle;\n    }\n\n    .dataframe tbody tr th {\n        vertical-align: top;\n    }\n\n    .dataframe thead th {\n        text-align: right;\n    }\n</style>\n<table border=\"1\" class=\"dataframe\">\n  <thead>\n    <tr style=\"text-align: right;\">\n      <th></th>\n      <th>Prefecture</th>\n      <th>City</th>\n      <th>ID</th>\n      <th>Name</th>\n      <th>Likes</th>\n      <th>Rating</th>\n      <th>Tips</th>\n    </tr>\n  </thead>\n  <tbody>\n    <tr>\n      <th>0</th>\n      <td>Kanagawa</td>\n      <td>Yokohama</td>\n      <td>4b7cd69af964a52010a72fe3</td>\n      <td>Tenkaippin (\u5929\u4e0b\u4e00\u54c1)</td>\n      <td>61</td>\n      <td>8.1</td>\n      <td>14</td>\n    </tr>\n    <tr>\n      <th>1</th>\n      <td>Kanagawa</td>\n      <td>Yokohama</td>\n      <td>4b6d3c91f964a520e66c2ce3</td>\n      <td>Yousyu-Syonin (\u63da\u5dde\u5546\u4eba)</td>\n      <td>51</td>\n      <td>8.5</td>\n      <td>11</td>\n    </tr>\n    <tr>\n      <th>2</th>\n      <td>Kanagawa</td>\n      <td>Yokohama</td>\n      <td>4b496456f964a520f16e26e3</td>\n      <td>Ramen Jiro (\u30e9\u30fc\u30e1\u30f3\u4e8c\u90ce \u6a2a\u6d5c\u95a2\u5185\u5e97)</td>\n      <td>200</td>\n      <td>9.0</td>\n      <td>35</td>\n    </tr>\n    <tr>\n      <th>3</th>\n      <td>Kanagawa</td>\n      <td>Yokohama</td>\n      <td>58e709d73ef0f614ce44072d</td>\n      <td>\u4e2d\u83ef\u854e\u9ea6 \u6642\u96e8</td>\n      <td>14</td>\n      <td>7.8</td>\n      <td>5</td>\n    </tr>\n    <tr>\n      <th>4</th>\n      <td>Kanagawa</td>\n      <td>Yokohama</td>\n      <td>51b12755abd89a0e082663f7</td>\n      <td>Hechikan (\u4e3f\u8cab)</td>\n      <td>35</td>\n      <td>8.5</td>\n      <td>16</td>\n    </tr>\n  </tbody>\n</table>\n</div>", 
                        "text/plain": "  Prefecture      City                        ID                       Name  \\\n0   Kanagawa  Yokohama  4b7cd69af964a52010a72fe3          Tenkaippin (\u5929\u4e0b\u4e00\u54c1)   \n1   Kanagawa  Yokohama  4b6d3c91f964a520e66c2ce3       Yousyu-Syonin (\u63da\u5dde\u5546\u4eba)   \n2   Kanagawa  Yokohama  4b496456f964a520f16e26e3  Ramen Jiro (\u30e9\u30fc\u30e1\u30f3\u4e8c\u90ce \u6a2a\u6d5c\u95a2\u5185\u5e97)   \n3   Kanagawa  Yokohama  58e709d73ef0f614ce44072d                    \u4e2d\u83ef\u854e\u9ea6 \u6642\u96e8   \n4   Kanagawa  Yokohama  51b12755abd89a0e082663f7              Hechikan (\u4e3f\u8cab)   \n\n  Likes  Rating Tips  \n0    61     8.1   14  \n1    51     8.5   11  \n2   200     9.0   35  \n3    14     7.8    5  \n4    35     8.5   16  "
                    }, 
                    "output_type": "execute_result"
                }
            ], 
            "source": "\ncolumn_names=['Prefecture', 'City', 'ID','Name','Likes','Rating','Tips']\nresto_stats=pd.DataFrame(columns=column_names)\n\n\n\nfor row in resto_list.values.tolist():\n    pref,city,ID,Name=row\n    try:\n        venue_info=fetch_venue_details(ID)\n        venue_info\n        id,name,likes,rating,tips=venue_info.values.tolist()[0]\n    except IndexError:\n        print('No data available for id=',ID)       \n        id,name,likes,rating,tips=[0]*5\n    \n    resto_stats = resto_stats.append({'Prefecture': pref,\n                                                'City': city, \n                                                'ID': id,\n                                                'Name' : name,\n                                                'Likes' : likes,\n                                                'Rating' : rating,\n                                                'Tips' : tips\n                                               }, ignore_index=True)\nresto_stats.head()"
        }, 
        {
            "execution_count": 99, 
            "cell_type": "code", 
            "metadata": {}, 
            "outputs": [
                {
                    "execution_count": 99, 
                    "metadata": {}, 
                    "data": {
                        "text/plain": "Prefecture     object\nCity           object\nID             object\nName           object\nLikes          object\nRating        float64\nTips           object\ndtype: object"
                    }, 
                    "output_type": "execute_result"
                }
            ], 
            "source": "resto_stats.dtypes"
        }, 
        {
            "execution_count": 100, 
            "cell_type": "code", 
            "metadata": {}, 
            "outputs": [], 
            "source": "#convert likes and tips to int\nresto_stats['Tips']=resto_stats['Tips'].astype('float64')\nresto_stats['Likes']=resto_stats['Likes'].astype('float64')"
        }, 
        {
            "execution_count": 101, 
            "cell_type": "code", 
            "metadata": {}, 
            "outputs": [
                {
                    "execution_count": 101, 
                    "metadata": {}, 
                    "data": {
                        "text/plain": "Prefecture                       Osaka\nCity                             Osaka\nID            552fca5e498e14c3cc433e6f\nName               Ichiran (\u4e00\u862d \u9053\u9813\u5800\u5e97\u5225\u9928)\nLikes                              326\nRating                             8.6\nTips                                86\nName: 9, dtype: object"
                    }, 
                    "output_type": "execute_result"
                }
            ], 
            "source": "#Restaurant with max likes\nresto_stats.iloc[resto_stats['Likes'].idxmax()]"
        }, 
        {
            "execution_count": 102, 
            "cell_type": "code", 
            "metadata": {}, 
            "outputs": [
                {
                    "execution_count": 102, 
                    "metadata": {}, 
                    "data": {
                        "text/plain": "Prefecture                     Kanagawa\nCity                           Yokohama\nID             4b496456f964a520f16e26e3\nName          Ramen Jiro (\u30e9\u30fc\u30e1\u30f3\u4e8c\u90ce \u6a2a\u6d5c\u95a2\u5185\u5e97)\nLikes                               200\nRating                                9\nTips                                 35\nName: 2, dtype: object"
                    }, 
                    "output_type": "execute_result"
                }
            ], 
            "source": "#Restaurant with highest rating\nresto_stats.iloc[resto_stats['Rating'].idxmax()]"
        }, 
        {
            "execution_count": null, 
            "cell_type": "code", 
            "metadata": {}, 
            "outputs": [], 
            "source": ""
        }
    ], 
    "metadata": {
        "kernelspec": {
            "display_name": "Python 3.6", 
            "name": "python3", 
            "language": "python"
        }, 
        "language_info": {
            "mimetype": "text/x-python", 
            "nbconvert_exporter": "python", 
            "version": "3.6.8", 
            "name": "python", 
            "file_extension": ".py", 
            "pygments_lexer": "ipython3", 
            "codemirror_mode": {
                "version": 3, 
                "name": "ipython"
            }
        }
    }, 
    "nbformat": 4
}